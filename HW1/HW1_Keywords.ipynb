{
 "cells": [
  {
   "cell_type": "markdown",
   "id": "80621aa2-08a8-4824-8791-917cf5faf53b",
   "metadata": {},
   "source": [
    "### Importing modules"
   ]
  },
  {
   "cell_type": "code",
   "execution_count": 219,
   "id": "5b6bbb43-3faa-4f3e-9aae-38ee4236d15e",
   "metadata": {},
   "outputs": [],
   "source": [
    "import re\n",
    "import RAKE\n",
    "import pymorphy2\n",
    "import numpy as np\n",
    "import pandas as pd\n",
    "from summa import keywords\n",
    "from nltk.corpus import stopwords\n",
    "from sklearn.feature_extraction.text import TfidfVectorizer"
   ]
  },
  {
   "cell_type": "markdown",
   "id": "36a68a56-5cf1-4efc-a555-05947198ad55",
   "metadata": {},
   "source": [
    "### Loading data"
   ]
  },
  {
   "cell_type": "markdown",
   "id": "f9ba6c37-53b6-469f-b594-a76a429a24dc",
   "metadata": {},
   "source": [
    "Manually grabbed from vesti.ru, not the best source in terms of content but got some accurate tags which after a little clean-up may be considered as keywords."
   ]
  },
  {
   "cell_type": "code",
   "execution_count": 220,
   "id": "730512e8-4412-4cb2-8ca0-94dd96c3a97c",
   "metadata": {},
   "outputs": [],
   "source": [
    "df = pd.read_csv('corpus.tsv', sep='\\t')"
   ]
  },
  {
   "cell_type": "code",
   "execution_count": 221,
   "id": "b4efd064-c7a0-4bc8-94f0-019a74f9b3fb",
   "metadata": {},
   "outputs": [
    {
     "data": {
      "text/html": [
       "<div>\n",
       "<style scoped>\n",
       "    .dataframe tbody tr th:only-of-type {\n",
       "        vertical-align: middle;\n",
       "    }\n",
       "\n",
       "    .dataframe tbody tr th {\n",
       "        vertical-align: top;\n",
       "    }\n",
       "\n",
       "    .dataframe thead th {\n",
       "        text-align: right;\n",
       "    }\n",
       "</style>\n",
       "<table border=\"1\" class=\"dataframe\">\n",
       "  <thead>\n",
       "    <tr style=\"text-align: right;\">\n",
       "      <th></th>\n",
       "      <th>title</th>\n",
       "      <th>text</th>\n",
       "      <th>keywords_site</th>\n",
       "      <th>keywords_manual</th>\n",
       "    </tr>\n",
       "  </thead>\n",
       "  <tbody>\n",
       "    <tr>\n",
       "      <th>0</th>\n",
       "      <td>Евросоюз ввел санкции против 8 россиян</td>\n",
       "      <td>Еще восемь россиян и двоих сирийцев Шади и Наз...</td>\n",
       "      <td>Китай/КНР, Сирия, Алексей Навальный, Евросоюз,...</td>\n",
       "      <td>Евросоюз, Россия, ФСБ, Алексей Навальный, Сири...</td>\n",
       "    </tr>\n",
       "    <tr>\n",
       "      <th>1</th>\n",
       "      <td>Небензя назвал ничтожной резолюцию ООН</td>\n",
       "      <td>Проект резолюции Генеральной Ассамблеи ООН, ко...</td>\n",
       "      <td>резолюция, Василий Небензя, репарации, Генерал...</td>\n",
       "      <td>Генеральная Ассамблея ООН, Россия, Василий Неб...</td>\n",
       "    </tr>\n",
       "    <tr>\n",
       "      <th>2</th>\n",
       "      <td>Юрий Бутусов покидает театр имени Вахтангова</td>\n",
       "      <td>Главный режиссер театра имени Вахтангова попро...</td>\n",
       "      <td>театр, Юрий Бутусов, общество, Россия</td>\n",
       "      <td>театр, театр имени Вахтангова, Юрий Бутусов, Р...</td>\n",
       "    </tr>\n",
       "    <tr>\n",
       "      <th>3</th>\n",
       "      <td>Испуганные сотрудники Twitter сравнивают Маска...</td>\n",
       "      <td>Сотрудники Twitter боятся упоминать имя нового...</td>\n",
       "      <td>технологии, Twitter, hi-tech, общество, соцсети</td>\n",
       "      <td>Twitter, Илон Маск, мессенджер</td>\n",
       "    </tr>\n",
       "    <tr>\n",
       "      <th>4</th>\n",
       "      <td>МВД: замглавы Херсонской области не пропала, а...</td>\n",
       "      <td>Заместитель главы Херсонской области по цифров...</td>\n",
       "      <td>происшествия, задержание, общество, Херсонская...</td>\n",
       "      <td>Херсонская область, МВД, экономическое преступ...</td>\n",
       "    </tr>\n",
       "  </tbody>\n",
       "</table>\n",
       "</div>"
      ],
      "text/plain": [
       "                                               title  \\\n",
       "0             Евросоюз ввел санкции против 8 россиян   \n",
       "1             Небензя назвал ничтожной резолюцию ООН   \n",
       "2       Юрий Бутусов покидает театр имени Вахтангова   \n",
       "3  Испуганные сотрудники Twitter сравнивают Маска...   \n",
       "4  МВД: замглавы Херсонской области не пропала, а...   \n",
       "\n",
       "                                                text  \\\n",
       "0  Еще восемь россиян и двоих сирийцев Шади и Наз...   \n",
       "1  Проект резолюции Генеральной Ассамблеи ООН, ко...   \n",
       "2  Главный режиссер театра имени Вахтангова попро...   \n",
       "3  Сотрудники Twitter боятся упоминать имя нового...   \n",
       "4  Заместитель главы Херсонской области по цифров...   \n",
       "\n",
       "                                       keywords_site  \\\n",
       "0  Китай/КНР, Сирия, Алексей Навальный, Евросоюз,...   \n",
       "1  резолюция, Василий Небензя, репарации, Генерал...   \n",
       "2              театр, Юрий Бутусов, общество, Россия   \n",
       "3    технологии, Twitter, hi-tech, общество, соцсети   \n",
       "4  происшествия, задержание, общество, Херсонская...   \n",
       "\n",
       "                                     keywords_manual  \n",
       "0  Евросоюз, Россия, ФСБ, Алексей Навальный, Сири...  \n",
       "1  Генеральная Ассамблея ООН, Россия, Василий Неб...  \n",
       "2  театр, театр имени Вахтангова, Юрий Бутусов, Р...  \n",
       "3                     Twitter, Илон Маск, мессенджер  \n",
       "4  Херсонская область, МВД, экономическое преступ...  "
      ]
     },
     "execution_count": 221,
     "metadata": {},
     "output_type": "execute_result"
    }
   ],
   "source": [
    "df.head()"
   ]
  },
  {
   "cell_type": "markdown",
   "id": "fe1657ce-2c8c-48ab-9b60-91e6b05eb7d2",
   "metadata": {},
   "source": [
    "### Preprocessing"
   ]
  },
  {
   "cell_type": "code",
   "execution_count": 222,
   "id": "fad78026-6bcc-426f-a991-a9cb4905c5e3",
   "metadata": {},
   "outputs": [],
   "source": [
    "stop_words = stopwords.words('russian')\n",
    "morph = pymorphy2.MorphAnalyzer()"
   ]
  },
  {
   "cell_type": "code",
   "execution_count": 223,
   "id": "274accc4-62eb-4a0c-8bb0-916be28090fe",
   "metadata": {},
   "outputs": [],
   "source": [
    "def preprocess(text):\n",
    "    text = re.sub(r'[^\\w\\s]', '', text)\n",
    "    tokens = []\n",
    "    for token in text.split(' '):\n",
    "        token = token.lower()\n",
    "        if token.isalpha() and token not in stop_words:\n",
    "            token = morph.normal_forms(token.strip())[0]\n",
    "            tokens.append(token)\n",
    "    return ' '.join(tokens)"
   ]
  },
  {
   "cell_type": "code",
   "execution_count": 224,
   "id": "4cc28119-e6e1-4bb4-a0de-7c7b3f8c9756",
   "metadata": {},
   "outputs": [],
   "source": [
    "def normalize(lst):\n",
    "    return set([preprocess(x) for x in lst if preprocess(x)])"
   ]
  },
  {
   "cell_type": "code",
   "execution_count": 225,
   "id": "dcec960e-84ff-4de2-a728-0782658d6b9d",
   "metadata": {},
   "outputs": [],
   "source": [
    "df['text'] = df['title']+' '+df['text']\n",
    "df['preprocessed'] = df['text'].apply(preprocess)\n",
    "df['golden'] = (df['keywords_site'].str.split(', ')+df['keywords_manual'].str.split(', ')).apply(normalize)\n",
    "df = df[['text', 'preprocessed', 'golden']]"
   ]
  },
  {
   "cell_type": "code",
   "execution_count": 226,
   "id": "8e21a7e3-c578-46c8-b7a4-336f953e197d",
   "metadata": {},
   "outputs": [
    {
     "data": {
      "text/html": [
       "<div>\n",
       "<style scoped>\n",
       "    .dataframe tbody tr th:only-of-type {\n",
       "        vertical-align: middle;\n",
       "    }\n",
       "\n",
       "    .dataframe tbody tr th {\n",
       "        vertical-align: top;\n",
       "    }\n",
       "\n",
       "    .dataframe thead th {\n",
       "        text-align: right;\n",
       "    }\n",
       "</style>\n",
       "<table border=\"1\" class=\"dataframe\">\n",
       "  <thead>\n",
       "    <tr style=\"text-align: right;\">\n",
       "      <th></th>\n",
       "      <th>text</th>\n",
       "      <th>preprocessed</th>\n",
       "      <th>golden</th>\n",
       "    </tr>\n",
       "  </thead>\n",
       "  <tbody>\n",
       "    <tr>\n",
       "      <th>0</th>\n",
       "      <td>Евросоюз ввел санкции против 8 россиян Еще вос...</td>\n",
       "      <td>евросоюз ввести санкция против россиянин восем...</td>\n",
       "      <td>{евросоюз, сирия, санкция, жозеп боррель, росс...</td>\n",
       "    </tr>\n",
       "    <tr>\n",
       "      <th>1</th>\n",
       "      <td>Небензя назвал ничтожной резолюцию ООН Проект ...</td>\n",
       "      <td>небензить назвать ничтожный резолюция оон прое...</td>\n",
       "      <td>{резолюция, генеральный ассамблея оон, киев, у...</td>\n",
       "    </tr>\n",
       "    <tr>\n",
       "      <th>2</th>\n",
       "      <td>Юрий Бутусов покидает театр имени Вахтангова Г...</td>\n",
       "      <td>юрий бутусов покидать театр имя вахтангов глав...</td>\n",
       "      <td>{юрий бутусов, театр имя вахтангов, театр, рос...</td>\n",
       "    </tr>\n",
       "    <tr>\n",
       "      <th>3</th>\n",
       "      <td>Испуганные сотрудники Twitter сравнивают Маска...</td>\n",
       "      <td>испуганный сотрудник twitter сравнивать маска ...</td>\n",
       "      <td>{hitech, технология, илона маск, общество, twi...</td>\n",
       "    </tr>\n",
       "    <tr>\n",
       "      <th>4</th>\n",
       "      <td>МВД: замглавы Херсонской области не пропала, а...</td>\n",
       "      <td>мвд замглавы херсонский область пропасть задер...</td>\n",
       "      <td>{задержание, херсонский область, владимир саль...</td>\n",
       "    </tr>\n",
       "  </tbody>\n",
       "</table>\n",
       "</div>"
      ],
      "text/plain": [
       "                                                text  \\\n",
       "0  Евросоюз ввел санкции против 8 россиян Еще вос...   \n",
       "1  Небензя назвал ничтожной резолюцию ООН Проект ...   \n",
       "2  Юрий Бутусов покидает театр имени Вахтангова Г...   \n",
       "3  Испуганные сотрудники Twitter сравнивают Маска...   \n",
       "4  МВД: замглавы Херсонской области не пропала, а...   \n",
       "\n",
       "                                        preprocessed  \\\n",
       "0  евросоюз ввести санкция против россиянин восем...   \n",
       "1  небензить назвать ничтожный резолюция оон прое...   \n",
       "2  юрий бутусов покидать театр имя вахтангов глав...   \n",
       "3  испуганный сотрудник twitter сравнивать маска ...   \n",
       "4  мвд замглавы херсонский область пропасть задер...   \n",
       "\n",
       "                                              golden  \n",
       "0  {евросоюз, сирия, санкция, жозеп боррель, росс...  \n",
       "1  {резолюция, генеральный ассамблея оон, киев, у...  \n",
       "2  {юрий бутусов, театр имя вахтангов, театр, рос...  \n",
       "3  {hitech, технология, илона маск, общество, twi...  \n",
       "4  {задержание, херсонский область, владимир саль...  "
      ]
     },
     "execution_count": 226,
     "metadata": {},
     "output_type": "execute_result"
    }
   ],
   "source": [
    "df.head()"
   ]
  },
  {
   "cell_type": "markdown",
   "id": "85b8ead0-0e9f-4f93-8a3e-64fdb1a44ac5",
   "metadata": {
    "tags": []
   },
   "source": [
    "### Keywords extraction"
   ]
  },
  {
   "cell_type": "code",
   "execution_count": 227,
   "id": "e04c0af3-8602-4b17-a796-267f7a6d5db3",
   "metadata": {},
   "outputs": [],
   "source": [
    "def drop_freqs(lst):\n",
    "    return [x[0] for x in lst]"
   ]
  },
  {
   "cell_type": "markdown",
   "id": "1bab2530-acf8-4436-8a1e-f40a2bc8c6f8",
   "metadata": {
    "tags": []
   },
   "source": [
    "##### RAKE"
   ]
  },
  {
   "cell_type": "code",
   "execution_count": 228,
   "id": "ade384da-fbad-47a2-86d5-131f7a4ba27c",
   "metadata": {},
   "outputs": [],
   "source": [
    "rake = RAKE.Rake(stop_words)\n",
    "df['rake'] = df['text'].apply(lambda x: \n",
    "                                      rake.run(x, \n",
    "                                               maxWords=2, \n",
    "                                               minFrequency=1)).apply(drop_freqs).apply(normalize)"
   ]
  },
  {
   "cell_type": "markdown",
   "id": "fff5686c-483b-4326-af0e-6a2597fa0bc7",
   "metadata": {},
   "source": [
    "##### TextRank"
   ]
  },
  {
   "cell_type": "code",
   "execution_count": 229,
   "id": "0e152727-1176-4019-8c04-130e92a3859f",
   "metadata": {},
   "outputs": [],
   "source": [
    "df['textrank'] = df['preprocessed'].apply(lambda x: \n",
    "                                                  keywords.keywords(x, \n",
    "                                                                    language='russian', \n",
    "                                                                    additional_stopwords=stop_words, \n",
    "                                                                    scores=True)).apply(drop_freqs).apply(normalize)"
   ]
  },
  {
   "cell_type": "markdown",
   "id": "281c0924-0c86-4a52-97d8-332bc3410e06",
   "metadata": {},
   "source": [
    "##### Tf-Idf"
   ]
  },
  {
   "cell_type": "code",
   "execution_count": 230,
   "id": "be906138-7b3f-42b8-80ea-b47f79bdaff5",
   "metadata": {},
   "outputs": [],
   "source": [
    "def tfidf_tags(text, top_n):\n",
    "    vectorizer = TfidfVectorizer(stop_words=stop_words, ngram_range=(1, 2))\n",
    "    tfidf = vectorizer.fit_transform([text])\n",
    "    weights = np.argsort(np.asarray(tfidf.sum(axis=0)).ravel())[::-1]\n",
    "    feature_names = np.array(vectorizer.get_feature_names())\n",
    "    return feature_names[weights[:top_n]]"
   ]
  },
  {
   "cell_type": "code",
   "execution_count": 231,
   "id": "6698abcf-7ab2-406f-bebb-17b31cf1a796",
   "metadata": {},
   "outputs": [],
   "source": [
    "df['tfidf'] = df['preprocessed'].apply(lambda x: \n",
    "                                               tfidf_tags(x, \n",
    "                                                          top_n=10))"
   ]
  },
  {
   "cell_type": "code",
   "execution_count": 232,
   "id": "930201bd-5ac9-420a-bb6f-2494745e0b99",
   "metadata": {},
   "outputs": [
    {
     "data": {
      "text/html": [
       "<div>\n",
       "<style scoped>\n",
       "    .dataframe tbody tr th:only-of-type {\n",
       "        vertical-align: middle;\n",
       "    }\n",
       "\n",
       "    .dataframe tbody tr th {\n",
       "        vertical-align: top;\n",
       "    }\n",
       "\n",
       "    .dataframe thead th {\n",
       "        text-align: right;\n",
       "    }\n",
       "</style>\n",
       "<table border=\"1\" class=\"dataframe\">\n",
       "  <thead>\n",
       "    <tr style=\"text-align: right;\">\n",
       "      <th></th>\n",
       "      <th>text</th>\n",
       "      <th>preprocessed</th>\n",
       "      <th>golden</th>\n",
       "      <th>rake</th>\n",
       "      <th>textrank</th>\n",
       "      <th>tfidf</th>\n",
       "    </tr>\n",
       "  </thead>\n",
       "  <tbody>\n",
       "    <tr>\n",
       "      <th>0</th>\n",
       "      <td>Евросоюз ввел санкции против 8 россиян Еще вос...</td>\n",
       "      <td>евросоюз ввести санкция против россиянин восем...</td>\n",
       "      <td>{евросоюз, сирия, санкция, жозеп боррель, росс...</td>\n",
       "      <td>{сотрудник тюрьма, сообщать тасс, страна предл...</td>\n",
       "      <td>{санкционный список, служба, который, сотрудни...</td>\n",
       "      <td>[санкция, санкция против, против, россиянин, п...</td>\n",
       "    </tr>\n",
       "    <tr>\n",
       "      <th>1</th>\n",
       "      <td>Небензя назвал ничтожной резолюцию ООН Проект ...</td>\n",
       "      <td>небензить назвать ничтожный резолюция оон прое...</td>\n",
       "      <td>{резолюция, генеральный ассамблея оон, киев, у...</td>\n",
       "      <td>{резолюция, цель, который, запад, заморозить, ...</td>\n",
       "      <td>{выплата, который, полянский, рф, легализовать...</td>\n",
       "      <td>[легализовать, резолюция, рф, ничтожный, это, ...</td>\n",
       "    </tr>\n",
       "    <tr>\n",
       "      <th>2</th>\n",
       "      <td>Юрий Бутусов покидает театр имени Вахтангова Г...</td>\n",
       "      <td>юрий бутусов покидать театр имя вахтангов глав...</td>\n",
       "      <td>{юрий бутусов, театр имя вахтангов, театр, рос...</td>\n",
       "      <td>{театр получить, увольнение, париж, год, поста...</td>\n",
       "      <td>{главный, решение объяснить нахождение, театр ...</td>\n",
       "      <td>[театр, театр имя, имя, режиссёр театр, режисс...</td>\n",
       "    </tr>\n",
       "    <tr>\n",
       "      <th>3</th>\n",
       "      <td>Испуганные сотрудники Twitter сравнивают Маска...</td>\n",
       "      <td>испуганный сотрудник twitter сравнивать маска ...</td>\n",
       "      <td>{hitech, технология, илона маск, общество, twi...</td>\n",
       "      <td>{илона, гарри поттер, новое сотрудник, твиттер...</td>\n",
       "      <td>{илона, который, сравнивать маска воландеморт,...</td>\n",
       "      <td>[компания, сотрудник, маск, воландеморт, daily...</td>\n",
       "    </tr>\n",
       "    <tr>\n",
       "      <th>4</th>\n",
       "      <td>МВД: замглавы Херсонской области не пропала, а...</td>\n",
       "      <td>мвд замглавы херсонский область пропасть задер...</td>\n",
       "      <td>{задержание, херсонский область, владимир саль...</td>\n",
       "      <td>{сообщить, владимир сальдо, уголовный дело, ра...</td>\n",
       "      <td>{херсонский область, пока, последний, мвд, ека...</td>\n",
       "      <td>[область, губарев, мвд, заместитель, задержать...</td>\n",
       "    </tr>\n",
       "  </tbody>\n",
       "</table>\n",
       "</div>"
      ],
      "text/plain": [
       "                                                text  \\\n",
       "0  Евросоюз ввел санкции против 8 россиян Еще вос...   \n",
       "1  Небензя назвал ничтожной резолюцию ООН Проект ...   \n",
       "2  Юрий Бутусов покидает театр имени Вахтангова Г...   \n",
       "3  Испуганные сотрудники Twitter сравнивают Маска...   \n",
       "4  МВД: замглавы Херсонской области не пропала, а...   \n",
       "\n",
       "                                        preprocessed  \\\n",
       "0  евросоюз ввести санкция против россиянин восем...   \n",
       "1  небензить назвать ничтожный резолюция оон прое...   \n",
       "2  юрий бутусов покидать театр имя вахтангов глав...   \n",
       "3  испуганный сотрудник twitter сравнивать маска ...   \n",
       "4  мвд замглавы херсонский область пропасть задер...   \n",
       "\n",
       "                                              golden  \\\n",
       "0  {евросоюз, сирия, санкция, жозеп боррель, росс...   \n",
       "1  {резолюция, генеральный ассамблея оон, киев, у...   \n",
       "2  {юрий бутусов, театр имя вахтангов, театр, рос...   \n",
       "3  {hitech, технология, илона маск, общество, twi...   \n",
       "4  {задержание, херсонский область, владимир саль...   \n",
       "\n",
       "                                                rake  \\\n",
       "0  {сотрудник тюрьма, сообщать тасс, страна предл...   \n",
       "1  {резолюция, цель, который, запад, заморозить, ...   \n",
       "2  {театр получить, увольнение, париж, год, поста...   \n",
       "3  {илона, гарри поттер, новое сотрудник, твиттер...   \n",
       "4  {сообщить, владимир сальдо, уголовный дело, ра...   \n",
       "\n",
       "                                            textrank  \\\n",
       "0  {санкционный список, служба, который, сотрудни...   \n",
       "1  {выплата, который, полянский, рф, легализовать...   \n",
       "2  {главный, решение объяснить нахождение, театр ...   \n",
       "3  {илона, который, сравнивать маска воландеморт,...   \n",
       "4  {херсонский область, пока, последний, мвд, ека...   \n",
       "\n",
       "                                               tfidf  \n",
       "0  [санкция, санкция против, против, россиянин, п...  \n",
       "1  [легализовать, резолюция, рф, ничтожный, это, ...  \n",
       "2  [театр, театр имя, имя, режиссёр театр, режисс...  \n",
       "3  [компания, сотрудник, маск, воландеморт, daily...  \n",
       "4  [область, губарев, мвд, заместитель, задержать...  "
      ]
     },
     "execution_count": 232,
     "metadata": {},
     "output_type": "execute_result"
    }
   ],
   "source": [
    "df.head()"
   ]
  },
  {
   "cell_type": "markdown",
   "id": "5f37bd72-7653-444e-b8c7-1d8273d7a647",
   "metadata": {},
   "source": [
    "### Syntatic templates"
   ]
  },
  {
   "cell_type": "markdown",
   "id": "df71c4e1-2925-4824-9445-8988a497d00c",
   "metadata": {},
   "source": [
    "Most frequent syntactic templates of keywords seemed to contain nouns and look as follows: NOUN, ADJ+N and NOUN+NOUN. VP-keywords don't make much sense to me, and could hardly notice any on the website, so let us take these."
   ]
  },
  {
   "cell_type": "code",
   "execution_count": 233,
   "id": "178e9ecf-a91f-4968-b633-2d534993a369",
   "metadata": {},
   "outputs": [],
   "source": [
    "def pos_extract(keywords):\n",
    "    tags = []\n",
    "    for keyword in keywords:\n",
    "        if len(keyword.split()) == 1:\n",
    "            tags.append(morph.parse(keyword)[0].tag.POS)\n",
    "        else:\n",
    "            tags.append([morph.parse(w)[0].tag.POS for w in keyword.split()])\n",
    "    return tags"
   ]
  },
  {
   "cell_type": "code",
   "execution_count": 234,
   "id": "c0f57fff-0fa8-4c71-94b2-465e2f24130c",
   "metadata": {},
   "outputs": [],
   "source": [
    "templates = [\"NOUN\", \n",
    "             \"['NOUN', 'NOUN']\", \n",
    "             \"['ADJF', 'NOUN']\"]\n",
    "\n",
    "def filter_templates(modes):\n",
    "    for mode in modes:\n",
    "        filtered = []\n",
    "        for keywords in df[mode]:\n",
    "            keywords = list(keywords)\n",
    "            tags = pos_extract(keywords)\n",
    "            filtered.append([keywords[i] for i, tag in enumerate(tags) if str(tag) in templates])\n",
    "        df[mode+'_filtered'] = filtered"
   ]
  },
  {
   "cell_type": "code",
   "execution_count": 235,
   "id": "85b5e75e-9ed1-4bcb-a53e-a46e06068189",
   "metadata": {},
   "outputs": [],
   "source": [
    "filter_templates(['rake', 'textrank', 'tfidf'])"
   ]
  },
  {
   "cell_type": "code",
   "execution_count": 236,
   "id": "4a0ba463-7f89-4ae5-8304-1a173db5ab59",
   "metadata": {},
   "outputs": [
    {
     "data": {
      "text/html": [
       "<div>\n",
       "<style scoped>\n",
       "    .dataframe tbody tr th:only-of-type {\n",
       "        vertical-align: middle;\n",
       "    }\n",
       "\n",
       "    .dataframe tbody tr th {\n",
       "        vertical-align: top;\n",
       "    }\n",
       "\n",
       "    .dataframe thead th {\n",
       "        text-align: right;\n",
       "    }\n",
       "</style>\n",
       "<table border=\"1\" class=\"dataframe\">\n",
       "  <thead>\n",
       "    <tr style=\"text-align: right;\">\n",
       "      <th></th>\n",
       "      <th>text</th>\n",
       "      <th>preprocessed</th>\n",
       "      <th>golden</th>\n",
       "      <th>rake</th>\n",
       "      <th>textrank</th>\n",
       "      <th>tfidf</th>\n",
       "      <th>rake_filtered</th>\n",
       "      <th>textrank_filtered</th>\n",
       "      <th>tfidf_filtered</th>\n",
       "    </tr>\n",
       "  </thead>\n",
       "  <tbody>\n",
       "    <tr>\n",
       "      <th>0</th>\n",
       "      <td>Евросоюз ввел санкции против 8 россиян Еще вос...</td>\n",
       "      <td>евросоюз ввести санкция против россиянин восем...</td>\n",
       "      <td>{евросоюз, сирия, санкция, жозеп боррель, росс...</td>\n",
       "      <td>{сотрудник тюрьма, сообщать тасс, страна предл...</td>\n",
       "      <td>{санкционный список, служба, который, сотрудни...</td>\n",
       "      <td>[санкция, санкция против, против, россиянин, п...</td>\n",
       "      <td>[сотрудник тюрьма, гражданин россия, обвинение...</td>\n",
       "      <td>[санкционный список, служба, сотрудник, компан...</td>\n",
       "      <td>[санкция, россиянин, хоурань, россия, евросоюз...</td>\n",
       "    </tr>\n",
       "    <tr>\n",
       "      <th>1</th>\n",
       "      <td>Небензя назвал ничтожной резолюцию ООН Проект ...</td>\n",
       "      <td>небензить назвать ничтожный резолюция оон прое...</td>\n",
       "      <td>{резолюция, генеральный ассамблея оон, киев, у...</td>\n",
       "      <td>{резолюция, цель, который, запад, заморозить, ...</td>\n",
       "      <td>{выплата, который, полянский, рф, легализовать...</td>\n",
       "      <td>[легализовать, резолюция, рф, ничтожный, это, ...</td>\n",
       "      <td>[резолюция, цель, запад, слово, покупка оружие]</td>\n",
       "      <td>[выплата, рф]</td>\n",
       "      <td>[резолюция, рф, оон, выплата, репарация]</td>\n",
       "    </tr>\n",
       "    <tr>\n",
       "      <th>2</th>\n",
       "      <td>Юрий Бутусов покидает театр имени Вахтангова Г...</td>\n",
       "      <td>юрий бутусов покидать театр имя вахтангов глав...</td>\n",
       "      <td>{юрий бутусов, театр имя вахтангов, театр, рос...</td>\n",
       "      <td>{театр получить, увольнение, париж, год, поста...</td>\n",
       "      <td>{главный, решение объяснить нахождение, театр ...</td>\n",
       "      <td>[театр, театр имя, имя, режиссёр театр, режисс...</td>\n",
       "      <td>[увольнение, париж, год, общий сложность, спек...</td>\n",
       "      <td>[бутусов]</td>\n",
       "      <td>[театр, театр имя, имя, режиссёр театр, режисс...</td>\n",
       "    </tr>\n",
       "    <tr>\n",
       "      <th>3</th>\n",
       "      <td>Испуганные сотрудники Twitter сравнивают Маска...</td>\n",
       "      <td>испуганный сотрудник twitter сравнивать маска ...</td>\n",
       "      <td>{hitech, технология, илона маск, общество, twi...</td>\n",
       "      <td>{илона, гарри поттер, новое сотрудник, твиттер...</td>\n",
       "      <td>{илона, который, сравнивать маска воландеморт,...</td>\n",
       "      <td>[компания, сотрудник, маск, воландеморт, daily...</td>\n",
       "      <td>[илона, гарри поттер, новое сотрудник, непосре...</td>\n",
       "      <td>[илона, сотрудник, компания, корпоративный мес...</td>\n",
       "      <td>[компания, сотрудник, маск, воландеморт, маска...</td>\n",
       "    </tr>\n",
       "    <tr>\n",
       "      <th>4</th>\n",
       "      <td>МВД: замглавы Херсонской области не пропала, а...</td>\n",
       "      <td>мвд замглавы херсонский область пропасть задер...</td>\n",
       "      <td>{задержание, херсонский область, владимир саль...</td>\n",
       "      <td>{сообщить, владимир сальдо, уголовный дело, ра...</td>\n",
       "      <td>{херсонский область, пока, последний, мвд, ека...</td>\n",
       "      <td>[область, губарев, мвд, заместитель, задержать...</td>\n",
       "      <td>[владимир сальдо, уголовный дело, екатерина, п...</td>\n",
       "      <td>[херсонский область, мвд, екатерина губарев, с...</td>\n",
       "      <td>[область, губарев, мвд, заместитель, херсонски...</td>\n",
       "    </tr>\n",
       "  </tbody>\n",
       "</table>\n",
       "</div>"
      ],
      "text/plain": [
       "                                                text  \\\n",
       "0  Евросоюз ввел санкции против 8 россиян Еще вос...   \n",
       "1  Небензя назвал ничтожной резолюцию ООН Проект ...   \n",
       "2  Юрий Бутусов покидает театр имени Вахтангова Г...   \n",
       "3  Испуганные сотрудники Twitter сравнивают Маска...   \n",
       "4  МВД: замглавы Херсонской области не пропала, а...   \n",
       "\n",
       "                                        preprocessed  \\\n",
       "0  евросоюз ввести санкция против россиянин восем...   \n",
       "1  небензить назвать ничтожный резолюция оон прое...   \n",
       "2  юрий бутусов покидать театр имя вахтангов глав...   \n",
       "3  испуганный сотрудник twitter сравнивать маска ...   \n",
       "4  мвд замглавы херсонский область пропасть задер...   \n",
       "\n",
       "                                              golden  \\\n",
       "0  {евросоюз, сирия, санкция, жозеп боррель, росс...   \n",
       "1  {резолюция, генеральный ассамблея оон, киев, у...   \n",
       "2  {юрий бутусов, театр имя вахтангов, театр, рос...   \n",
       "3  {hitech, технология, илона маск, общество, twi...   \n",
       "4  {задержание, херсонский область, владимир саль...   \n",
       "\n",
       "                                                rake  \\\n",
       "0  {сотрудник тюрьма, сообщать тасс, страна предл...   \n",
       "1  {резолюция, цель, который, запад, заморозить, ...   \n",
       "2  {театр получить, увольнение, париж, год, поста...   \n",
       "3  {илона, гарри поттер, новое сотрудник, твиттер...   \n",
       "4  {сообщить, владимир сальдо, уголовный дело, ра...   \n",
       "\n",
       "                                            textrank  \\\n",
       "0  {санкционный список, служба, который, сотрудни...   \n",
       "1  {выплата, который, полянский, рф, легализовать...   \n",
       "2  {главный, решение объяснить нахождение, театр ...   \n",
       "3  {илона, который, сравнивать маска воландеморт,...   \n",
       "4  {херсонский область, пока, последний, мвд, ека...   \n",
       "\n",
       "                                               tfidf  \\\n",
       "0  [санкция, санкция против, против, россиянин, п...   \n",
       "1  [легализовать, резолюция, рф, ничтожный, это, ...   \n",
       "2  [театр, театр имя, имя, режиссёр театр, режисс...   \n",
       "3  [компания, сотрудник, маск, воландеморт, daily...   \n",
       "4  [область, губарев, мвд, заместитель, задержать...   \n",
       "\n",
       "                                       rake_filtered  \\\n",
       "0  [сотрудник тюрьма, гражданин россия, обвинение...   \n",
       "1    [резолюция, цель, запад, слово, покупка оружие]   \n",
       "2  [увольнение, париж, год, общий сложность, спек...   \n",
       "3  [илона, гарри поттер, новое сотрудник, непосре...   \n",
       "4  [владимир сальдо, уголовный дело, екатерина, п...   \n",
       "\n",
       "                                   textrank_filtered  \\\n",
       "0  [санкционный список, служба, сотрудник, компан...   \n",
       "1                                      [выплата, рф]   \n",
       "2                                          [бутусов]   \n",
       "3  [илона, сотрудник, компания, корпоративный мес...   \n",
       "4  [херсонский область, мвд, екатерина губарев, с...   \n",
       "\n",
       "                                      tfidf_filtered  \n",
       "0  [санкция, россиянин, хоурань, россия, евросоюз...  \n",
       "1           [резолюция, рф, оон, выплата, репарация]  \n",
       "2  [театр, театр имя, имя, режиссёр театр, режисс...  \n",
       "3  [компания, сотрудник, маск, воландеморт, маска...  \n",
       "4  [область, губарев, мвд, заместитель, херсонски...  "
      ]
     },
     "execution_count": 236,
     "metadata": {},
     "output_type": "execute_result"
    }
   ],
   "source": [
    "df.head()"
   ]
  },
  {
   "cell_type": "markdown",
   "id": "c6b94b7b-a1e5-40eb-ac2d-0287fcfa4189",
   "metadata": {
    "tags": []
   },
   "source": [
    "### Metrics"
   ]
  },
  {
   "cell_type": "code",
   "execution_count": 237,
   "id": "ab122b53-8257-4ef1-9b98-87da07028e23",
   "metadata": {},
   "outputs": [],
   "source": [
    "def metrics(tags):\n",
    "    golden = df['golden']\n",
    "    precs, recalls, f_scores = [], [], []\n",
    "    for i in range(len(golden)):\n",
    "        precision = len(set(tags[i]).intersection(golden[i]))/len(tags[i])\n",
    "        precs.append(precision)\n",
    "        \n",
    "        recall = len(set(tags[i]).intersection(golden[i]))/len(golden[i])\n",
    "        recalls.append(recall)\n",
    "        \n",
    "        f_score = (2 * precision * recall) / (precision + recall + 0.001)\n",
    "        f_scores.append(f_score)\n",
    "        \n",
    "    return {'Precision': round(sum(precs)/len(precs), 3), \n",
    "            'Recall': round(sum(recalls)/len(recalls), 3),\n",
    "            'F_score': round(sum(f_scores)/len(f_scores), 3)}"
   ]
  },
  {
   "cell_type": "markdown",
   "id": "53936001-bd38-410b-b04e-6aba56024fa7",
   "metadata": {},
   "source": [
    "#### Rake"
   ]
  },
  {
   "cell_type": "code",
   "execution_count": 238,
   "id": "f44cbeb1-cb20-42c3-b842-133f84376b63",
   "metadata": {},
   "outputs": [
    {
     "name": "stdout",
     "output_type": "stream",
     "text": [
      "Without templates: {'Precision': 0.083, 'Recall': 0.261, 'F_score': 0.117} \n",
      "With templates: {'Precision': 0.148, 'Recall': 0.258, 'F_score': 0.172}\n"
     ]
    }
   ],
   "source": [
    "print('Without templates:', metrics(df['rake']), \n",
    "      '\\nWith templates:',  metrics(df['rake_filtered']))"
   ]
  },
  {
   "cell_type": "markdown",
   "id": "572251ef-1d6e-458d-8f72-26030d1b948b",
   "metadata": {},
   "source": [
    "#### TextRank"
   ]
  },
  {
   "cell_type": "code",
   "execution_count": 239,
   "id": "b8b27126-dfdc-41d9-a1a5-a8ed10e53b5d",
   "metadata": {},
   "outputs": [
    {
     "name": "stdout",
     "output_type": "stream",
     "text": [
      "Without templates: {'Precision': 0.117, 'Recall': 0.145, 'F_score': 0.116} \n",
      "With templates: {'Precision': 0.228, 'Recall': 0.133, 'F_score': 0.151}\n"
     ]
    }
   ],
   "source": [
    "print('Without templates:', metrics(df['textrank']), \n",
    "      '\\nWith templates:',  metrics(df['textrank_filtered']))"
   ]
  },
  {
   "cell_type": "markdown",
   "id": "4c25e72b-4d1f-4227-84fe-cc4aa3890559",
   "metadata": {},
   "source": [
    "#### Tf-Idf"
   ]
  },
  {
   "cell_type": "code",
   "execution_count": 240,
   "id": "0b26af7d-290c-4873-b183-9428c8693aad",
   "metadata": {},
   "outputs": [
    {
     "name": "stdout",
     "output_type": "stream",
     "text": [
      "Without templates: {'Precision': 0.224, 'Recall': 0.287, 'F_score': 0.247} \n",
      "With templates: {'Precision': 0.31, 'Recall': 0.278, 'F_score': 0.285}\n"
     ]
    }
   ],
   "source": [
    "print('Without templates:', metrics(df['tfidf']), \n",
    "      '\\nWith templates:',  metrics(df['tfidf_filtered']))"
   ]
  },
  {
   "cell_type": "markdown",
   "id": "a8b3c130-00f7-4602-9323-4682152a74b4",
   "metadata": {},
   "source": [
    "### Overall"
   ]
  },
  {
   "cell_type": "markdown",
   "id": "e22f03f5-aaf1-4e16-bf27-ac2f15d0d506",
   "metadata": {},
   "source": [
    "<center>\n",
    "<table>\n",
    "<tr>\n",
    "    <td></td>\n",
    "    <td></td>\n",
    "    <th>Rake</th>\n",
    "    <th>TextRank</th>\n",
    "    <th>Tf-Idf</th> \n",
    "</tr>\n",
    "<tr>\n",
    "    <th>Without templates</th>\n",
    "    <td>Precision</td>\n",
    "    <td>0.083</td> \n",
    "    <td>0.117</td> \n",
    "    <td>0.224</td> \n",
    "</tr>\n",
    "<tr>\n",
    "    <td></td>\n",
    "    <td>Recall</td>\n",
    "    <td>0.261</td> \n",
    "    <td>0.145</td> \n",
    "    <td>0.287</td> \n",
    "</tr>\n",
    "<tr>\n",
    "    <td></td>\n",
    "    <td>F_score</td>\n",
    "    <td>0.117</td> \n",
    "    <td>0.116</td> \n",
    "    <td>0.247</td> \n",
    "</tr>\n",
    "\n",
    "</table>  \n",
    "\n",
    "<table>\n",
    "<tr>\n",
    "    <td></td>\n",
    "    <td></td>\n",
    "    <th>Rake</th>\n",
    "    <th>TextRank</th>\n",
    "    <th>Tf-Idf</th> \n",
    "</tr>\n",
    "\n",
    "<tr>\n",
    "    <th>With templates</th>\n",
    "    <td>Precision</td>\n",
    "    <td>0.148</td> \n",
    "    <td>0.228</td> \n",
    "    <td>0.310</td> \n",
    "</tr>\n",
    "    \n",
    "<tr>\n",
    "    <td></td>\n",
    "    <td>Recall</td>\n",
    "    <td>0.258</td> \n",
    "    <td>0.133</td> \n",
    "    <td>0.278</td> \n",
    "</tr>\n",
    "\n",
    "<tr>\n",
    "    <td></td>\n",
    "    <td>F_score</td>\n",
    "    <td>0.172</td> \n",
    "    <td>0.151</td> \n",
    "    <td>0.285</td> \n",
    "</tr>\n",
    "\n",
    "</table>  \n",
    "    </center>"
   ]
  },
  {
   "cell_type": "markdown",
   "id": "df20c519-e1cf-4829-890e-8345897c26fe",
   "metadata": {},
   "source": [
    "Tf-Idf seemed to outperform the two other approaches, both with and without filtering by part-of-speech templates. Using POS-templates led to a better result for every method, which is an expected result as many VP-like constituents, that had been mistakenly recognized by the tested algorithms as keywords, were thrown away.\n",
    "\n",
    "Still, the scores are not as high as we would like them to be. Let us take a look at some of the constituents that the algorithms recognized as keywords:  "
   ]
  },
  {
   "cell_type": "code",
   "execution_count": 166,
   "id": "c9d469e0-83ac-47cb-8eea-5519e720671f",
   "metadata": {},
   "outputs": [
    {
     "name": "stdout",
     "output_type": "stream",
     "text": [
      "1: {'театр получить', 'увольнение', 'париж', 'год', 'поставить', 'общий сложность', 'спектакль', 'свой решение', 'занимать должность', 'возвращение', 'театр', 'объяснить нахождение', 'россия', 'отсутствие план', 'понедельник'}\n",
      "2: {'илона', 'гарри поттер', 'новое сотрудник', 'твиттереть', 'выскочить', 'непосредственный руководство', 'сотрудник жаловаться', 'который критиковать', 'ранее сообщаться', 'себя', 'корпоративный мессенджер', 'быть отслеживать', 'случай', 'кто', 'слово', 'переписка', 'называть', 'маск', 'парень наверху', 'новый владелец', 'сообщение', 'компания tesla', 'новость', 'компания', 'сравнивать бизнесмен', 'антагонист', 'сми', 'воландеморт'}\n"
     ]
    }
   ],
   "source": [
    "for i, r in enumerate(df['rake'][2:4], start=1):\n",
    "    print(f'{i}: {r}')"
   ]
  },
  {
   "cell_type": "markdown",
   "id": "37f4098e-379c-495c-bccd-436bb5fc3090",
   "metadata": {},
   "source": [
    "In (1) as keywords were recognized some pretty common words as 'возвращение', 'год', 'занимать должность', which can hardly characterize not only this specific, but pretty much any text. In (2) we see some really accurate keywords such as 'компания tesla', still some common, nonspecific words as 'сми' and useless verbs as 'выскочить' can be found. This applies to every other tested method.\n",
    "\n",
    "As a result, it seemed clear to me that the tested algorithms keep on extracting VP-constituents and treat them as keywords, which in fact can rarely act as ones. Throwing away these VPs helps achieve a better result. Also, a smarter preprocessing could help extracting better keywords because handy pymorphy seemed to struggle with NPs that have genitive noun as a dependent."
   ]
  }
 ],
 "metadata": {
  "kernelspec": {
   "display_name": "Python 3 (ipykernel)",
   "language": "python",
   "name": "python3"
  },
  "language_info": {
   "codemirror_mode": {
    "name": "ipython",
    "version": 3
   },
   "file_extension": ".py",
   "mimetype": "text/x-python",
   "name": "python",
   "nbconvert_exporter": "python",
   "pygments_lexer": "ipython3",
   "version": "3.9.1"
  }
 },
 "nbformat": 4,
 "nbformat_minor": 5
}
