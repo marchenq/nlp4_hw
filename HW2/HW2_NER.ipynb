{
 "cells": [
  {
   "cell_type": "markdown",
   "id": "09ad1170-69d8-43e9-8b52-61a84c65432a",
   "metadata": {},
   "source": [
    "#### Cпособы найти упоминания товаров в отзывах"
   ]
  },
  {
   "cell_type": "markdown",
   "id": "e5810e85-c654-4d8d-a194-ca8106394eb6",
   "metadata": {},
   "source": [
    "1. Составить правила для NE и извлечь их каким-нибудь инструментом типа yargy, только для английских текстов. Но здесь же и очевидные минусы - для датасета из миллионов отзывов невозможно будет идеально написать правила для каждой сущности, а также в отзывах редко можно встретить текст вида \"модель + родовое понятие\": автор отзыва скорее напишет просто название модели (если не просто использует местоимение), и предусмотреть такие случаи будет крайне сложно. Но если тот, кто пишет правила, сможет точно описать большинство случаев, на что могут уйти месяцы, то извлечение будет очень точным. Данные - сами отзывы.\n",
    "2. Использовать готовую нейросеть для поиска именованных сущностей - например, LSTM-CRF. Минусы в том, что такой подход требует размеченных данных для обучения, но потенциально может показать хорошую точность.\n",
    "3. Составление списка родовых понятий, по которым будут искаться NE, из ключевых слов, и расширение его с помощью векторных моделей, для последующего поиска n-грамм с этими понятиями. В этой работе мы попробуем именно такой способ. Данные - сами тексты и любые доступные метаданные, в нашем случае мы воспользуемся заголовками товаров. Минусы - скорее всего будет много шума, если не накладывать много условий на тип контекста, что уже ближе к подходу (1)."
   ]
  },
  {
   "cell_type": "markdown",
   "id": "5def1565-b4f0-45f8-b8ed-a23267c0ce17",
   "metadata": {},
   "source": [
    "#### Импорт модулей"
   ]
  },
  {
   "cell_type": "code",
   "execution_count": 5,
   "id": "cc5fa3a5-c429-4724-b7eb-d80560e86ce4",
   "metadata": {},
   "outputs": [],
   "source": [
    "import re\n",
    "import nltk\n",
    "import json\n",
    "import RAKE\n",
    "import spacy\n",
    "import gensim\n",
    "import pandas as pd\n",
    "from nltk.metrics import *\n",
    "from nltk.collocations import *\n",
    "from nltk.corpus import stopwords\n",
    "from nltk.stem import WordNetLemmatizer\n",
    "from string import punctuation\n",
    "from tqdm.notebook import tqdm\n",
    "from collections import Counter"
   ]
  },
  {
   "cell_type": "markdown",
   "id": "091650e0-911f-4089-8592-0d5eb75686e1",
   "metadata": {},
   "source": [
    "#### 0. Чтение файлов"
   ]
  },
  {
   "cell_type": "code",
   "execution_count": 6,
   "id": "51f8b4c1-a9a2-47a7-9e0c-380c2856ed4d",
   "metadata": {},
   "outputs": [],
   "source": [
    "def read(filename, n=None):\n",
    "    with open(filename) as f:\n",
    "        dict_train = f.readlines()[:n]\n",
    "    dataset = []\n",
    "    for d in tqdm(dict_train):\n",
    "        dataset.append(json.loads(d))\n",
    "    dataset = pd.DataFrame(dataset)\n",
    "    return dataset"
   ]
  },
  {
   "cell_type": "code",
   "execution_count": 7,
   "id": "6d6cf414-af9c-4b24-b838-1596ef17d079",
   "metadata": {},
   "outputs": [
    {
     "data": {
      "application/vnd.jupyter.widget-view+json": {
       "model_id": "083b7814f26a4a3db8e912f5f0ed9633",
       "version_major": 2,
       "version_minor": 0
      },
      "text/plain": [
       "  0%|          | 0/300000 [00:00<?, ?it/s]"
      ]
     },
     "metadata": {},
     "output_type": "display_data"
    },
    {
     "data": {
      "application/vnd.jupyter.widget-view+json": {
       "model_id": "48dcf7381d674c44b0db6759284f9700",
       "version_major": 2,
       "version_minor": 0
      },
      "text/plain": [
       "  0%|          | 0/590071 [00:00<?, ?it/s]"
      ]
     },
     "metadata": {},
     "output_type": "display_data"
    }
   ],
   "source": [
    "reviews = read('Cell_Phones_and_Accessories.json', 300000)\n",
    "metadata = read('meta_Cell_Phones_and_Accessories.json')"
   ]
  },
  {
   "cell_type": "code",
   "execution_count": 8,
   "id": "90d61874-c685-4fed-9473-63bf876f492a",
   "metadata": {},
   "outputs": [],
   "source": [
    "reviews = reviews.drop(['overall', 'verified', 'reviewTime', \n",
    "                        'reviewerID', 'reviewerName', 'summary', \n",
    "                        'unixReviewTime', 'vote', 'image', \n",
    "                        'style'], axis=1)"
   ]
  },
  {
   "cell_type": "code",
   "execution_count": 9,
   "id": "831eb20d-a934-4668-8431-9944336c9b93",
   "metadata": {},
   "outputs": [],
   "source": [
    "metadata = metadata.drop(['tech1', 'fit', 'also_buy', \n",
    "                          'tech2', 'feature', 'main_cat',\n",
    "                          'description', 'brand', 'category',\n",
    "                          'rank', 'also_view', 'details', \n",
    "                          'similar_item', 'date', 'price', \n",
    "                          'imageURL', 'imageURLHighRes'], axis=1)"
   ]
  },
  {
   "cell_type": "code",
   "execution_count": 10,
   "id": "0fcfae83-b3aa-447d-90cb-17a28ee7aaca",
   "metadata": {},
   "outputs": [],
   "source": [
    "result = pd.merge(reviews, metadata, on='asin', how='inner')\n",
    "result = result[['asin', 'title', 'reviewText']]"
   ]
  },
  {
   "cell_type": "code",
   "execution_count": 11,
   "id": "89a58525-7897-4710-8539-6ef83837ecb8",
   "metadata": {},
   "outputs": [
    {
     "data": {
      "text/html": [
       "<div>\n",
       "<style scoped>\n",
       "    .dataframe tbody tr th:only-of-type {\n",
       "        vertical-align: middle;\n",
       "    }\n",
       "\n",
       "    .dataframe tbody tr th {\n",
       "        vertical-align: top;\n",
       "    }\n",
       "\n",
       "    .dataframe thead th {\n",
       "        text-align: right;\n",
       "    }\n",
       "</style>\n",
       "<table border=\"1\" class=\"dataframe\">\n",
       "  <thead>\n",
       "    <tr style=\"text-align: right;\">\n",
       "      <th></th>\n",
       "      <th>asin</th>\n",
       "      <th>title</th>\n",
       "      <th>reviewText</th>\n",
       "    </tr>\n",
       "  </thead>\n",
       "  <tbody>\n",
       "    <tr>\n",
       "      <th>0</th>\n",
       "      <td>7391002801</td>\n",
       "      <td>Silver Elegant Butterfly Foot Ankle Chain Summ...</td>\n",
       "      <td>Beautiful item; received timely.  Thank you.</td>\n",
       "    </tr>\n",
       "    <tr>\n",
       "      <th>1</th>\n",
       "      <td>7391002801</td>\n",
       "      <td>Silver Elegant Butterfly Foot Ankle Chain Summ...</td>\n",
       "      <td>Had this for 2 weeks.  Had to replace screen p...</td>\n",
       "    </tr>\n",
       "    <tr>\n",
       "      <th>2</th>\n",
       "      <td>7391002801</td>\n",
       "      <td>Silver Elegant Butterfly Foot Ankle Chain Summ...</td>\n",
       "      <td>The apple is not centered in the hole on the b...</td>\n",
       "    </tr>\n",
       "    <tr>\n",
       "      <th>3</th>\n",
       "      <td>7391002801</td>\n",
       "      <td>Silver Elegant Butterfly Foot Ankle Chain Summ...</td>\n",
       "      <td>Case is cheaply made. If you aren't using an a...</td>\n",
       "    </tr>\n",
       "    <tr>\n",
       "      <th>4</th>\n",
       "      <td>7391002801</td>\n",
       "      <td>Silver Elegant Butterfly Foot Ankle Chain Summ...</td>\n",
       "      <td>This case is a really good thing. When you're ...</td>\n",
       "    </tr>\n",
       "  </tbody>\n",
       "</table>\n",
       "</div>"
      ],
      "text/plain": [
       "         asin                                              title  \\\n",
       "0  7391002801  Silver Elegant Butterfly Foot Ankle Chain Summ...   \n",
       "1  7391002801  Silver Elegant Butterfly Foot Ankle Chain Summ...   \n",
       "2  7391002801  Silver Elegant Butterfly Foot Ankle Chain Summ...   \n",
       "3  7391002801  Silver Elegant Butterfly Foot Ankle Chain Summ...   \n",
       "4  7391002801  Silver Elegant Butterfly Foot Ankle Chain Summ...   \n",
       "\n",
       "                                          reviewText  \n",
       "0       Beautiful item; received timely.  Thank you.  \n",
       "1  Had this for 2 weeks.  Had to replace screen p...  \n",
       "2  The apple is not centered in the hole on the b...  \n",
       "3  Case is cheaply made. If you aren't using an a...  \n",
       "4  This case is a really good thing. When you're ...  "
      ]
     },
     "execution_count": 11,
     "metadata": {},
     "output_type": "execute_result"
    }
   ],
   "source": [
    "result.head()"
   ]
  },
  {
   "cell_type": "markdown",
   "id": "b55f5abb-250e-4df5-bc8c-8a7ab8ec36fd",
   "metadata": {},
   "source": [
    "#### 1. Препроцессинг"
   ]
  },
  {
   "cell_type": "code",
   "execution_count": 15,
   "id": "fb8f624c-aac0-4c50-bb4a-2c7dc9e9fd80",
   "metadata": {},
   "outputs": [],
   "source": [
    "nlp = spacy.load('en_core_web_sm')\n",
    "stop_words = stopwords.words('english')\n",
    "rake = RAKE.Rake(stop_words)\n",
    "lemmatizer = WordNetLemmatizer()"
   ]
  },
  {
   "cell_type": "code",
   "execution_count": 20,
   "id": "e903864c-027a-4ad9-ae28-6c15f4f5cf2e",
   "metadata": {},
   "outputs": [],
   "source": [
    "def preprocess(sentence):\n",
    "    res = []\n",
    "    if isinstance(sentence, str):\n",
    "        sentence = sentence.translate(str.maketrans('', '', punctuation))\n",
    "        tokens = nltk.word_tokenize(sentence)\n",
    "        for token in tokens:\n",
    "            token = token.lower()\n",
    "            if token not in stop_words:\n",
    "                res.append(lemmatizer.lemmatize(token))\n",
    "    return ' '.join(res)"
   ]
  },
  {
   "cell_type": "code",
   "execution_count": 21,
   "id": "ffdf528f-9cea-49f6-a15b-345e38ef523b",
   "metadata": {},
   "outputs": [
    {
     "data": {
      "application/vnd.jupyter.widget-view+json": {
       "model_id": "5a4dc86dffe44258b699e8947e80f990",
       "version_major": 2,
       "version_minor": 0
      },
      "text/plain": [
       "  0%|          | 0/306337 [00:00<?, ?it/s]"
      ]
     },
     "metadata": {},
     "output_type": "display_data"
    }
   ],
   "source": [
    "tqdm.pandas()\n",
    "result['reviewNormalized'] = result['reviewText'].progress_apply(preprocess)"
   ]
  },
  {
   "cell_type": "code",
   "execution_count": 22,
   "id": "f4190a78-c300-4112-8fe5-e37def7aa026",
   "metadata": {},
   "outputs": [
    {
     "data": {
      "text/html": [
       "<div>\n",
       "<style scoped>\n",
       "    .dataframe tbody tr th:only-of-type {\n",
       "        vertical-align: middle;\n",
       "    }\n",
       "\n",
       "    .dataframe tbody tr th {\n",
       "        vertical-align: top;\n",
       "    }\n",
       "\n",
       "    .dataframe thead th {\n",
       "        text-align: right;\n",
       "    }\n",
       "</style>\n",
       "<table border=\"1\" class=\"dataframe\">\n",
       "  <thead>\n",
       "    <tr style=\"text-align: right;\">\n",
       "      <th></th>\n",
       "      <th>asin</th>\n",
       "      <th>title</th>\n",
       "      <th>reviewText</th>\n",
       "      <th>reviewNormalized</th>\n",
       "    </tr>\n",
       "  </thead>\n",
       "  <tbody>\n",
       "    <tr>\n",
       "      <th>0</th>\n",
       "      <td>7391002801</td>\n",
       "      <td>Silver Elegant Butterfly Foot Ankle Chain Summ...</td>\n",
       "      <td>Beautiful item; received timely.  Thank you.</td>\n",
       "      <td>beautiful item received timely thank</td>\n",
       "    </tr>\n",
       "    <tr>\n",
       "      <th>1</th>\n",
       "      <td>7391002801</td>\n",
       "      <td>Silver Elegant Butterfly Foot Ankle Chain Summ...</td>\n",
       "      <td>Had this for 2 weeks.  Had to replace screen p...</td>\n",
       "      <td>2 week replace screen protector outer ring sna...</td>\n",
       "    </tr>\n",
       "    <tr>\n",
       "      <th>2</th>\n",
       "      <td>7391002801</td>\n",
       "      <td>Silver Elegant Butterfly Foot Ankle Chain Summ...</td>\n",
       "      <td>The apple is not centered in the hole on the b...</td>\n",
       "      <td>apple centered hole back fit iphone 8 plus pro...</td>\n",
       "    </tr>\n",
       "    <tr>\n",
       "      <th>3</th>\n",
       "      <td>7391002801</td>\n",
       "      <td>Silver Elegant Butterfly Foot Ankle Chain Summ...</td>\n",
       "      <td>Case is cheaply made. If you aren't using an a...</td>\n",
       "      <td>case cheaply made arent using apple charger fi...</td>\n",
       "    </tr>\n",
       "    <tr>\n",
       "      <th>4</th>\n",
       "      <td>7391002801</td>\n",
       "      <td>Silver Elegant Butterfly Foot Ankle Chain Summ...</td>\n",
       "      <td>This case is a really good thing. When you're ...</td>\n",
       "      <td>case really good thing youre tired bright mass...</td>\n",
       "    </tr>\n",
       "  </tbody>\n",
       "</table>\n",
       "</div>"
      ],
      "text/plain": [
       "         asin                                              title  \\\n",
       "0  7391002801  Silver Elegant Butterfly Foot Ankle Chain Summ...   \n",
       "1  7391002801  Silver Elegant Butterfly Foot Ankle Chain Summ...   \n",
       "2  7391002801  Silver Elegant Butterfly Foot Ankle Chain Summ...   \n",
       "3  7391002801  Silver Elegant Butterfly Foot Ankle Chain Summ...   \n",
       "4  7391002801  Silver Elegant Butterfly Foot Ankle Chain Summ...   \n",
       "\n",
       "                                          reviewText  \\\n",
       "0       Beautiful item; received timely.  Thank you.   \n",
       "1  Had this for 2 weeks.  Had to replace screen p...   \n",
       "2  The apple is not centered in the hole on the b...   \n",
       "3  Case is cheaply made. If you aren't using an a...   \n",
       "4  This case is a really good thing. When you're ...   \n",
       "\n",
       "                                    reviewNormalized  \n",
       "0               beautiful item received timely thank  \n",
       "1  2 week replace screen protector outer ring sna...  \n",
       "2  apple centered hole back fit iphone 8 plus pro...  \n",
       "3  case cheaply made arent using apple charger fi...  \n",
       "4  case really good thing youre tired bright mass...  "
      ]
     },
     "execution_count": 22,
     "metadata": {},
     "output_type": "execute_result"
    }
   ],
   "source": [
    "result.head()"
   ]
  },
  {
   "cell_type": "markdown",
   "id": "ba83e3ad-2985-41a7-9c19-f77213facd9e",
   "metadata": {},
   "source": [
    "#### 2. Извлечение ключевых слов"
   ]
  },
  {
   "cell_type": "code",
   "execution_count": 23,
   "id": "e1b98e3c-87b0-4ec2-8818-c8dc8af8e574",
   "metadata": {},
   "outputs": [],
   "source": [
    "def get_kw(col):\n",
    "    keywords = []\n",
    "    for i, row in tqdm(result.iterrows()):\n",
    "        try:\n",
    "            kw = rake.run(result[col][i], maxWords=3, minFrequency=1)\n",
    "            for k in kw:\n",
    "                keywords.append(k[0])\n",
    "        except:\n",
    "            pass\n",
    "    return keywords"
   ]
  },
  {
   "cell_type": "markdown",
   "id": "0f95ccee-5d69-49ee-96a8-569476579a8c",
   "metadata": {},
   "source": [
    "##### 2.1. Из текстов"
   ]
  },
  {
   "cell_type": "code",
   "execution_count": 25,
   "id": "7190fbd8-d956-444d-bb26-31fc76123b05",
   "metadata": {},
   "outputs": [
    {
     "data": {
      "application/vnd.jupyter.widget-view+json": {
       "model_id": "47614ca188c64640a0ecc9255bdea0ec",
       "version_major": 2,
       "version_minor": 0
      },
      "text/plain": [
       "0it [00:00, ?it/s]"
      ]
     },
     "metadata": {},
     "output_type": "display_data"
    },
    {
     "data": {
      "text/plain": [
       "[('phone', 76139),\n",
       " ('use', 44572),\n",
       " ('case', 33052),\n",
       " ('get', 31329),\n",
       " ('one', 30767),\n",
       " ('product', 28864),\n",
       " ('bought', 27008),\n",
       " ('like', 24688),\n",
       " ('work', 23640),\n",
       " ('well', 22665),\n",
       " ('time', 22438),\n",
       " ('good', 22234),\n",
       " ('easy', 21864),\n",
       " ('great', 20902),\n",
       " ('price', 20891),\n",
       " ('love', 20484),\n",
       " ('would', 19475),\n",
       " ('got', 19472),\n",
       " ('used', 17576),\n",
       " ('charge', 16148),\n",
       " ('buy', 16116),\n",
       " ('need', 15891),\n",
       " ('using', 15370),\n",
       " ('iphone', 15355),\n",
       " ('also', 15149),\n",
       " ('put', 14089),\n",
       " ('problem', 13672),\n",
       " ('fit', 13655),\n",
       " ('however', 13337),\n",
       " ('want', 13306),\n",
       " ('screen', 13251),\n",
       " ('way', 12614),\n",
       " ('back', 12530),\n",
       " ('far', 12329),\n",
       " ('battery', 12212),\n",
       " ('purchased', 12145),\n",
       " ('know', 11947),\n",
       " ('works', 11854),\n",
       " ('money', 11849),\n",
       " ('think', 11661),\n",
       " ('much', 11459),\n",
       " ('able', 11174),\n",
       " ('lot', 11069),\n",
       " ('even', 10911),\n",
       " ('find', 10684),\n",
       " ('happy', 10669),\n",
       " ('see', 10330),\n",
       " ('take', 10165),\n",
       " ('amazon', 10159),\n",
       " ('found', 10101)]"
      ]
     },
     "execution_count": 25,
     "metadata": {},
     "output_type": "execute_result"
    }
   ],
   "source": [
    "from_texts = get_kw('reviewText')\n",
    "Counter(from_texts).most_common(50)"
   ]
  },
  {
   "cell_type": "markdown",
   "id": "77d6b1af-56fd-4034-8404-3e7b228502c8",
   "metadata": {
    "tags": []
   },
   "source": [
    "##### 2.2. Из заголовков товаров"
   ]
  },
  {
   "cell_type": "code",
   "execution_count": 26,
   "id": "6320f141-cdda-47c0-be29-c5bf690031cf",
   "metadata": {},
   "outputs": [
    {
     "data": {
      "application/vnd.jupyter.widget-view+json": {
       "model_id": "c7c335d262324212b8962752db7b0ff7",
       "version_major": 2,
       "version_minor": 0
      },
      "text/plain": [
       "0it [00:00, ?it/s]"
      ]
     },
     "metadata": {},
     "output_type": "display_data"
    },
    {
     "data": {
      "text/plain": [
       "[('black', 55989),\n",
       " ('retail packaging', 17776),\n",
       " ('&amp', 15653),\n",
       " ('warranty', 11145),\n",
       " ('white', 10968),\n",
       " ('manufacturer', 10612),\n",
       " ('discontinued', 10108),\n",
       " ('3', 8612),\n",
       " ('iphone 3g', 7720),\n",
       " ('iphone 4', 7324),\n",
       " ('3gs', 6889),\n",
       " ('smartphones', 6618),\n",
       " ('generic 3 pack', 6360),\n",
       " ('fits', 6320),\n",
       " ('non-retail packaging', 6079),\n",
       " ('3g', 5404),\n",
       " ('iphone', 5340),\n",
       " ('gps', 5143),\n",
       " ('htc evo 4g', 5006),\n",
       " ('silver', 4917),\n",
       " ('version', 4666),\n",
       " ('2 mp camera', 4643),\n",
       " ('1 pack', 4468),\n",
       " ('camera', 4423),\n",
       " ('w/built-', 4278),\n",
       " ('[retail packaging]', 4183),\n",
       " ('otterbox defender case', 4174),\n",
       " ('wi-fi', 3757),\n",
       " ('new trent', 3594),\n",
       " ('laser + flashlight', 3594),\n",
       " ('office', 3477),\n",
       " ('blue', 3411),\n",
       " ('clear', 3343),\n",
       " ('ipod', 3241),\n",
       " ('sprint', 3182),\n",
       " ('charging cable', 3063),\n",
       " ('wilson electronics', 2973),\n",
       " ('small home', 2902),\n",
       " ('dt', 2902),\n",
       " ('apple iphone 3g', 2816),\n",
       " ('6ft', 2693),\n",
       " ('case', 2536),\n",
       " ('2', 2499),\n",
       " ('apple iphone 4', 2418),\n",
       " ('compatible', 2374),\n",
       " ('t-mobile', 2308),\n",
       " ('purple', 2263),\n",
       " ('bluetooth', 2254),\n",
       " ('sanoxy&reg', 2231),\n",
       " ('belt clip', 2207)]"
      ]
     },
     "execution_count": 26,
     "metadata": {},
     "output_type": "execute_result"
    }
   ],
   "source": [
    "from_titles = get_kw('title')\n",
    "Counter(from_titles).most_common(50)"
   ]
  },
  {
   "cell_type": "markdown",
   "id": "4858d79b-f3db-4757-abe8-f76fced4a1a4",
   "metadata": {},
   "source": [
    "Отберём из выделенных выше ключевых слов наиболее подходящие для извлечения NE:"
   ]
  },
  {
   "cell_type": "code",
   "execution_count": 27,
   "id": "c3796900-3cf5-4ef4-b2b4-fcbe9daf8575",
   "metadata": {},
   "outputs": [],
   "source": [
    "entities = ['phone', 'case', 'iphone', 'smartphone', 'htc', 'apple', 'headset', 'cover', 'charger']"
   ]
  },
  {
   "cell_type": "markdown",
   "id": "1a6efae7-fab7-4703-b26a-cc1848e9cca8",
   "metadata": {},
   "source": [
    "С помощью word2vec расширим этот список близкими к ним словами:"
   ]
  },
  {
   "cell_type": "code",
   "execution_count": 28,
   "id": "6b19f503-10a2-4b41-b8ef-ee08271ecb94",
   "metadata": {},
   "outputs": [],
   "source": [
    "model = gensim.models.Word2Vec(result.reviewNormalized.apply(lambda x: x.split()), window=2)"
   ]
  },
  {
   "cell_type": "code",
   "execution_count": 29,
   "id": "0765e90b-1eca-4284-b725-faa8f779ecae",
   "metadata": {},
   "outputs": [],
   "source": [
    "extension = []\n",
    "for entity in entities:\n",
    "    for word in model.wv.most_similar(entity, topn=3):\n",
    "        extension.append(word[0])\n",
    "entities.extend(extension)"
   ]
  },
  {
   "cell_type": "code",
   "execution_count": 30,
   "id": "93ba6ab4-b5cb-48e4-be21-e29afe247f54",
   "metadata": {},
   "outputs": [
    {
     "data": {
      "text/plain": [
       "['phone',\n",
       " 'case',\n",
       " 'iphone',\n",
       " 'smartphone',\n",
       " 'htc',\n",
       " 'apple',\n",
       " 'headset',\n",
       " 'cover',\n",
       " 'charger',\n",
       " 'cellphone',\n",
       " 'iphone',\n",
       " 'device',\n",
       " 'cover',\n",
       " 'skin',\n",
       " 'sleeve',\n",
       " 'iphone4',\n",
       " 'iphones',\n",
       " 'phone',\n",
       " 'pda',\n",
       " 'smartphones',\n",
       " 'smart',\n",
       " 'phonehtc',\n",
       " 'env',\n",
       " '4g',\n",
       " 'verizon',\n",
       " 'att',\n",
       " 'sprint',\n",
       " 'earpiece',\n",
       " 'headpiece',\n",
       " 'headphone',\n",
       " 'case',\n",
       " 'covering',\n",
       " 'casing',\n",
       " 'recharger',\n",
       " 'adapter',\n",
       " 'wart']"
      ]
     },
     "execution_count": 30,
     "metadata": {},
     "output_type": "execute_result"
    }
   ],
   "source": [
    "entities"
   ]
  },
  {
   "cell_type": "markdown",
   "id": "32bcf931-426d-4613-b2ac-9000ec64e3e2",
   "metadata": {},
   "source": [
    "word2vec добавил лишних имён в список, почистим его:"
   ]
  },
  {
   "cell_type": "code",
   "execution_count": 48,
   "id": "26d09918-99e0-423a-8ecf-864e1bd32522",
   "metadata": {},
   "outputs": [],
   "source": [
    "to_remove = ['phonehtc', 'recharger', 'cellphone', 'pda', 'verizon', 'env',\n",
    "             'att', 'smartphones', 'iphones', 'smart', 'wart', 'iphone4', 'headpiece',\n",
    "             'sleeve', 'covering', 'casing']\n",
    "entities = [entity for entity in entities if entity not in to_remove]"
   ]
  },
  {
   "cell_type": "markdown",
   "id": "1e2d8f38-4a39-4126-9e83-427cfa3eaca6",
   "metadata": {},
   "source": [
    "В итоге имеется следующий список родовых понятий, для которых мы будем извлекать биграммы:"
   ]
  },
  {
   "cell_type": "code",
   "execution_count": 49,
   "id": "4b404ff6-ca6e-4049-817a-2b4f49f30d42",
   "metadata": {},
   "outputs": [
    {
     "data": {
      "text/plain": [
       "['phone',\n",
       " 'case',\n",
       " 'iphone',\n",
       " 'smartphone',\n",
       " 'htc',\n",
       " 'apple',\n",
       " 'headset',\n",
       " 'cover',\n",
       " 'charger',\n",
       " 'iphone',\n",
       " 'device',\n",
       " 'cover',\n",
       " 'skin',\n",
       " 'phone',\n",
       " '4g',\n",
       " 'sprint',\n",
       " 'earpiece',\n",
       " 'headphone',\n",
       " 'case',\n",
       " 'adapter']"
      ]
     },
     "execution_count": 49,
     "metadata": {},
     "output_type": "execute_result"
    }
   ],
   "source": [
    "entities"
   ]
  },
  {
   "cell_type": "markdown",
   "id": "490b0e76-5087-4983-85ae-1c57b20c733f",
   "metadata": {},
   "source": [
    "#### 3. Извлечение биграмм"
   ]
  },
  {
   "cell_type": "code",
   "execution_count": 50,
   "id": "20a30129-4c35-4553-909e-885fdad44509",
   "metadata": {},
   "outputs": [],
   "source": [
    "def n_gram(text, mode):\n",
    "    text = text.split()\n",
    "    res = []\n",
    "    for w in text:\n",
    "        if w in entities:\n",
    "            n = text.index(w)\n",
    "            try:\n",
    "                if mode == 'left':\n",
    "                    res.append((text[n-1], text[n]))\n",
    "                elif mode == 'right':\n",
    "                    res.append((text[n], text[n+1]))\n",
    "            except IndexError:\n",
    "                continue\n",
    "    return res"
   ]
  },
  {
   "cell_type": "code",
   "execution_count": 51,
   "id": "4f8f8e91-adc1-4fdb-a8aa-381b2c329995",
   "metadata": {},
   "outputs": [],
   "source": [
    "n_grams = []\n",
    "for i, row in result.iterrows():\n",
    "    left_context = n_gram(result['reviewNormalized'][i], 'left')\n",
    "    right_context = n_gram(result['reviewNormalized'][i], 'right')\n",
    "    n_grams.extend(left_context)\n",
    "    n_grams.extend(right_context)"
   ]
  },
  {
   "cell_type": "code",
   "execution_count": 52,
   "id": "7a9f2b9f-0bb9-4f0e-86b2-b7f96d348efa",
   "metadata": {},
   "outputs": [
    {
     "data": {
      "text/plain": [
       "[(('cell', 'phone'), 19532),\n",
       " (('phone', 'case'), 11744),\n",
       " (('bluetooth', 'headset'), 10439),\n",
       " (('iphone', '4'), 8821),\n",
       " (('bought', 'phone'), 7089),\n",
       " (('case', 'iphone'), 5956),\n",
       " (('fit', 'phone'), 4595),\n",
       " (('got', 'phone'), 4534),\n",
       " (('case', 'phone'), 4476),\n",
       " (('case', 'fit'), 4169)]"
      ]
     },
     "execution_count": 52,
     "metadata": {},
     "output_type": "execute_result"
    }
   ],
   "source": [
    "bigrams_counter = Counter(n_grams)\n",
    "bigrams_counter.most_common(10)"
   ]
  },
  {
   "cell_type": "markdown",
   "id": "628a6819-2803-491e-aebe-e5a7823a28bc",
   "metadata": {},
   "source": [
    "#### 4. Ранжирование биграмм"
   ]
  },
  {
   "cell_type": "code",
   "execution_count": 53,
   "id": "3f238e41-ecba-4e23-9807-9f00414f9609",
   "metadata": {},
   "outputs": [],
   "source": [
    "bm = nltk.collocations.BigramAssocMeasures()\n",
    "finder = BigramCollocationFinder.from_documents(n_grams)\n",
    "finder.apply_ngram_filter(lambda x, y: y in entities)\n",
    "finder.apply_freq_filter(20)"
   ]
  },
  {
   "cell_type": "markdown",
   "id": "6baef773-e933-44ed-b257-a2edfbe65e0b",
   "metadata": {},
   "source": [
    "##### 4.1. Jaccard"
   ]
  },
  {
   "cell_type": "code",
   "execution_count": 54,
   "id": "68ccb43f-b3ca-4679-b595-7d6b4db6a9f1",
   "metadata": {},
   "outputs": [
    {
     "data": {
      "text/plain": [
       "[('htc', 'evo'),\n",
       " ('iphone', '4'),\n",
       " ('headphone', 'jack'),\n",
       " ('apple', 'store'),\n",
       " ('sprint', 'store'),\n",
       " ('htc', 'incredible'),\n",
       " ('iphone', '3gs'),\n",
       " ('apple', 'product'),\n",
       " ('iphone', '3g'),\n",
       " ('4g', 'lte'),\n",
       " ('charger', 'work'),\n",
       " ('htc', 'touch'),\n",
       " ('apple', 'logo'),\n",
       " ('iphone', '5'),\n",
       " ('case', 'fit')]"
      ]
     },
     "execution_count": 54,
     "metadata": {},
     "output_type": "execute_result"
    }
   ],
   "source": [
    "jaccard = finder.nbest(bm.jaccard, 10000)\n",
    "jaccard[:15]"
   ]
  },
  {
   "cell_type": "markdown",
   "id": "74c9e50c-702a-49f9-b0f0-e1edb060a870",
   "metadata": {},
   "source": [
    "##### 4.2. PMI"
   ]
  },
  {
   "cell_type": "code",
   "execution_count": 55,
   "id": "a32d012d-9799-405d-acba-fde8d3d397cf",
   "metadata": {},
   "outputs": [
    {
     "data": {
      "text/plain": [
       "[('4g', 'lte'),\n",
       " ('htc', 'tytn'),\n",
       " ('htc', 'aria'),\n",
       " ('htc', 'sensation'),\n",
       " ('htc', 'hd2'),\n",
       " ('htc', 'desire'),\n",
       " ('htc', 'thunderbolt'),\n",
       " ('htc', 'hero'),\n",
       " ('htc', 'wildfire'),\n",
       " ('htc', 'inspire'),\n",
       " ('apple', 'logo'),\n",
       " ('htc', 'fuze'),\n",
       " ('htc', 'incredible'),\n",
       " ('sprint', 'network'),\n",
       " ('htc', 'evo')]"
      ]
     },
     "execution_count": 55,
     "metadata": {},
     "output_type": "execute_result"
    }
   ],
   "source": [
    "pmi = finder.nbest(bm.pmi, 10000)\n",
    "pmi[:15]"
   ]
  },
  {
   "cell_type": "markdown",
   "id": "d573fd2c-b40b-4159-8722-2601c3a699fb",
   "metadata": {},
   "source": [
    "##### 4.3. Likelihood ratio"
   ]
  },
  {
   "cell_type": "code",
   "execution_count": 56,
   "id": "2ca133b5-854e-48d5-8d8b-992f81dd4d15",
   "metadata": {},
   "outputs": [
    {
     "data": {
      "text/plain": [
       "[('iphone', '4'),\n",
       " ('iphone', '3gs'),\n",
       " ('iphone', '3g'),\n",
       " ('headphone', 'jack'),\n",
       " ('htc', 'evo'),\n",
       " ('phone', 'cell'),\n",
       " ('iphone', '5'),\n",
       " ('apple', 'store'),\n",
       " ('phone', 'bluetooth'),\n",
       " ('case', 'cell'),\n",
       " ('phone', 'call'),\n",
       " ('case', 'fit'),\n",
       " ('charger', 'work'),\n",
       " ('case', 'bluetooth'),\n",
       " ('phone', 'bought')]"
      ]
     },
     "execution_count": 56,
     "metadata": {},
     "output_type": "execute_result"
    }
   ],
   "source": [
    "likelihood_ratio = finder.nbest(bm.likelihood_ratio, 10000)\n",
    "likelihood_ratio[:15]"
   ]
  },
  {
   "cell_type": "markdown",
   "id": "07eb95e8-4056-4956-bbe4-b7e75d5b7478",
   "metadata": {
    "tags": []
   },
   "source": [
    "#### 5. Группировка коллокаций"
   ]
  },
  {
   "cell_type": "markdown",
   "id": "49fcd2a1-a0e1-4af6-9bb9-8b3aa818bff5",
   "metadata": {},
   "source": [
    "В общем и целом все метрики показали хороший результат, но самой подходящей мне кажется Jaccard - она вывела вперёд что-то наиболее близкое к именованиям товаров."
   ]
  },
  {
   "cell_type": "code",
   "execution_count": 57,
   "id": "b3b491d5-e22c-40b1-841f-37eec03ae9c1",
   "metadata": {},
   "outputs": [],
   "source": [
    "results = {}\n",
    "for entity in entities:\n",
    "    results[entity] = []\n",
    "    for element in jaccard:\n",
    "        if (element[0] == entity or element[1] == entity) and len(results[entity]) < 5:\n",
    "            results[entity].append(' '.join(element))"
   ]
  },
  {
   "cell_type": "code",
   "execution_count": 58,
   "id": "2ea68330-f1a3-4ff7-9aae-e12ecb3e1ada",
   "metadata": {},
   "outputs": [
    {
     "name": "stdout",
     "output_type": "stream",
     "text": [
      "phone \n",
      "---\n",
      "phone work\n",
      "phone great\n",
      "phone well\n",
      "phone would\n",
      "phone one\n",
      "\n",
      "\n",
      "case \n",
      "---\n",
      "case fit\n",
      "case great\n",
      "case look\n",
      "case ive\n",
      "case one\n",
      "\n",
      "\n",
      "iphone \n",
      "---\n",
      "iphone 4\n",
      "iphone 3gs\n",
      "iphone 3g\n",
      "iphone 5\n",
      "iphone 6\n",
      "\n",
      "\n",
      "smartphone \n",
      "---\n",
      "smartphone market\n",
      "smartphone user\n",
      "smartphone im\n",
      "smartphone feature\n",
      "smartphone ever\n",
      "\n",
      "\n",
      "htc \n",
      "---\n",
      "htc evo\n",
      "htc incredible\n",
      "htc touch\n",
      "htc droid\n",
      "htc hero\n",
      "\n",
      "\n",
      "apple \n",
      "---\n",
      "apple store\n",
      "apple product\n",
      "apple logo\n",
      "apple bumper\n",
      "apple cable\n",
      "\n",
      "\n",
      "headset \n",
      "---\n",
      "headset work\n",
      "headset ive\n",
      "headset one\n",
      "headset use\n",
      "headset great\n",
      "\n",
      "\n",
      "cover \n",
      "---\n",
      "cover fit\n",
      "cover screen\n",
      "cover back\n",
      "cover great\n",
      "cover front\n",
      "\n",
      "\n",
      "charger \n",
      "---\n",
      "charger work\n",
      "charger car\n",
      "charger charge\n",
      "charger came\n",
      "charger cable\n",
      "\n",
      "\n",
      "device \n",
      "---\n",
      "device work\n",
      "device would\n",
      "device use\n",
      "device one\n",
      "device like\n",
      "\n",
      "\n",
      "skin \n",
      "---\n",
      "skin fit\n",
      "skin blackberry\n",
      "skin jelly\n",
      "skin screen\n",
      "skin look\n",
      "\n",
      "\n",
      "4g \n",
      "---\n",
      "4g lte\n",
      "4g signal\n",
      "4g touch\n",
      "4g perfectly\n",
      "4g evo\n",
      "\n",
      "\n",
      "sprint \n",
      "---\n",
      "sprint store\n",
      "sprint pc\n",
      "sprint network\n",
      "sprint service\n",
      "sprint customer\n",
      "\n",
      "\n",
      "earpiece \n",
      "---\n",
      "earpiece comfortable\n",
      "earpiece volume\n",
      "earpiece ear\n",
      "earpiece fit\n",
      "earpiece sound\n",
      "\n",
      "\n",
      "headphone \n",
      "---\n",
      "headphone jack\n",
      "headphone sound\n",
      "headphone port\n",
      "headphone work\n",
      "headphone use\n",
      "\n",
      "\n",
      "adapter \n",
      "---\n",
      "adapter work\n",
      "adapter plug\n",
      "adapter use\n",
      "adapter usb\n",
      "adapter cable\n",
      "\n",
      "\n"
     ]
    }
   ],
   "source": [
    "for k, v in results.items():\n",
    "    print(k, '\\n---')\n",
    "    for ne in v: print(ne)\n",
    "    print('\\n')"
   ]
  },
  {
   "cell_type": "markdown",
   "id": "76d9f9da-dd4b-4adf-a608-6d534ec8538c",
   "metadata": {},
   "source": [
    "Ожидаемо названия моделей там, где это стоит упоминания - рядом с торговыми марками, а в более общих родовых понятиях как \"адаптер\" или \"зарядка\" вместо названия моделей общие характеристики типа \"charger car\" - NE, которая, видимо, потеряля предлог во время препроцессинга (возможно, он был здесь лишним)."
   ]
  }
 ],
 "metadata": {
  "kernelspec": {
   "display_name": "Python 3 (ipykernel)",
   "language": "python",
   "name": "python3"
  },
  "language_info": {
   "codemirror_mode": {
    "name": "ipython",
    "version": 3
   },
   "file_extension": ".py",
   "mimetype": "text/x-python",
   "name": "python",
   "nbconvert_exporter": "python",
   "pygments_lexer": "ipython3",
   "version": "3.9.1"
  }
 },
 "nbformat": 4,
 "nbformat_minor": 5
}
